{
  "nbformat": 4,
  "nbformat_minor": 0,
  "metadata": {
    "colab": {
      "provenance": [],
      "authorship_tag": "ABX9TyNrz3VLmSnGUbDv0wAcyl2z",
      "include_colab_link": true
    },
    "kernelspec": {
      "name": "python3",
      "display_name": "Python 3"
    },
    "language_info": {
      "name": "python"
    }
  },
  "cells": [
    {
      "cell_type": "markdown",
      "metadata": {
        "id": "view-in-github",
        "colab_type": "text"
      },
      "source": [
        "<a href=\"https://colab.research.google.com/github/achellesheel/blogpc114/blob/main/Cyclistics_Capstone_Project.ipynb\" target=\"_parent\"><img src=\"https://colab.research.google.com/assets/colab-badge.svg\" alt=\"Open In Colab\"/></a>"
      ]
    },
    {
      "cell_type": "markdown",
      "source": [
        "# **The Problem statement**: The company’s future success depends on maximizing the number of annual memberships. Therefore, my team wants to understand how casual riders and annual members use Cyclistic bikes differently.\n",
        "\n",
        "\n"
      ],
      "metadata": {
        "id": "TEWs3Kh-MWtm"
      }
    },
    {
      "cell_type": "markdown",
      "source": [
        "**Prepare** Now, extracting files from cyclist webpage of all 12 months and uzipping them and combining them in \"full_year\" variable."
      ],
      "metadata": {
        "id": "84Zg6yx1PbjM"
      }
    },
    {
      "cell_type": "code",
      "execution_count": 1,
      "metadata": {
        "colab": {
          "base_uri": "https://localhost:8080/"
        },
        "id": "sgSkgFPoMR8B",
        "outputId": "d97f5ec2-0cf4-41d6-995b-37d181080209"
      },
      "outputs": [
        {
          "output_type": "stream",
          "name": "stdout",
          "text": [
            "Downloading 202401-divvy-tripdata.zip...\n",
            "Extracting 202401-divvy-tripdata.csv...\n",
            "Downloading 202402-divvy-tripdata.zip...\n",
            "Extracting 202402-divvy-tripdata.csv...\n",
            "Downloading 202403-divvy-tripdata.zip...\n",
            "Extracting 202403-divvy-tripdata.csv...\n",
            "Downloading 202404-divvy-tripdata.zip...\n",
            "Extracting 202404-divvy-tripdata.csv...\n",
            "Downloading 202405-divvy-tripdata.zip...\n",
            "Extracting 202405-divvy-tripdata.csv...\n",
            "Downloading 202406-divvy-tripdata.zip...\n",
            "Extracting 202406-divvy-tripdata.csv...\n",
            "Downloading 202407-divvy-tripdata.zip...\n",
            "Extracting 202407-divvy-tripdata.csv...\n",
            "Downloading 202408-divvy-tripdata.zip...\n",
            "Extracting 202408-divvy-tripdata.csv...\n",
            "Downloading 202409-divvy-tripdata.zip...\n",
            "Extracting 202409-divvy-tripdata.csv...\n",
            "Downloading 202410-divvy-tripdata.zip...\n",
            "Extracting 202410-divvy-tripdata.csv...\n",
            "Downloading 202411-divvy-tripdata.zip...\n",
            "Extracting 202411-divvy-tripdata.csv...\n",
            "Downloading 202412-divvy-tripdata.zip...\n",
            "Extracting 202412-divvy-tripdata.csv...\n",
            "Combining all datasets into 'full_year'...\n",
            "Full-year data saved as 'divvy_full_year.csv'.\n"
          ]
        }
      ],
      "source": [
        "import os\n",
        "import pandas as pd\n",
        "import requests\n",
        "import zipfile\n",
        "from io import BytesIO\n",
        "\n",
        "# Base URL for the datasets\n",
        "base_url = \"https://divvy-tripdata.s3.amazonaws.com/\"\n",
        "file_names = [f\"2024{month:02d}-divvy-tripdata.zip\" for month in range(1, 13)]\n",
        "\n",
        "# Directory to store downloaded files (optional)\n",
        "os.makedirs(\"divvy_data\", exist_ok=True)\n",
        "\n",
        "# Combine datasets into a single DataFrame\n",
        "data_frames = []\n",
        "\n",
        "for file_name in file_names:\n",
        "    print(f\"Downloading {file_name}...\")\n",
        "\n",
        "    # Download the ZIP file\n",
        "    url = f\"{base_url}{file_name}\"\n",
        "    response = requests.get(url)\n",
        "    response.raise_for_status()  # Ensure the request was successful\n",
        "\n",
        "    # Extract the ZIP file\n",
        "    with zipfile.ZipFile(BytesIO(response.content)) as z:\n",
        "        # Assuming there's only one CSV file in each ZIP\n",
        "        csv_file = z.namelist()[0]\n",
        "        print(f\"Extracting {csv_file}...\")\n",
        "        z.extract(csv_file, path=\"divvy_data\")\n",
        "\n",
        "        # Load the CSV into a DataFrame\n",
        "        file_path = os.path.join(\"divvy_data\", csv_file)\n",
        "        df = pd.read_csv(file_path)\n",
        "\n",
        "        # Append the DataFrame to the list\n",
        "        data_frames.append(df)\n",
        "\n",
        "# Combine all DataFrames into a single DataFrame\n",
        "print(\"Combining all datasets into 'full_year'...\")\n",
        "full_year = pd.concat(data_frames, ignore_index=True)\n",
        "\n",
        "# Optional: Save the combined dataset to a file\n",
        "full_year.to_csv(\"divvy_full_year.csv\", index=False)\n",
        "print(\"Full-year data saved as 'divvy_full_year.csv'.\")\n"
      ]
    },
    {
      "cell_type": "markdown",
      "source": [
        "Taking an overview of the dataset"
      ],
      "metadata": {
        "id": "WN6T2a_DQMiQ"
      }
    },
    {
      "cell_type": "code",
      "source": [
        "import pandas as pd\n",
        "\n",
        "# Load the combined dataset (if already saved as a CSV)\n",
        "full_year = pd.read_csv(\"divvy_full_year.csv\")\n",
        "\n",
        "# General Overview\n",
        "print(\"Dataset Overview:\")\n",
        "print(f\"Number of rows: {full_year.shape[0]}\")\n",
        "print(f\"Number of columns: {full_year.shape[1]}\")\n",
        "print(\"\\nColumn Information:\")\n",
        "print(full_year.info())\n",
        "\n",
        "# Statistical Summary for Numeric Columns\n",
        "print(\"\\nStatistical Summary for Numeric Columns:\")\n",
        "print(full_year.describe())\n",
        "\n",
        "# Check for Missing Values\n",
        "print(\"\\nMissing Values per Column:\")\n",
        "print(full_year.isnull().sum())\n",
        "\n",
        "# Unique Values in Categorical Columns\n",
        "print(\"\\nUnique Values in Categorical Columns:\")\n",
        "categorical_columns = full_year.select_dtypes(include=['object']).columns\n",
        "for col in categorical_columns:\n",
        "    print(f\"{col}: {full_year[col].nunique()} unique values\")\n",
        "\n",
        "# Example: Top 5 Most Frequent Categories for a Specific Column (e.g., \"start_station_name\")\n",
        "if 'start_station_name' in full_year.columns:\n",
        "    print(\"\\nTop 5 Start Stations:\")\n",
        "    print(full_year['start_station_name'].value_counts().head(5))\n",
        "\n",
        "# Example: Trip Duration Analysis\n",
        "if 'tripduration' in full_year.columns:\n",
        "    print(\"\\nTrip Duration Analysis (in minutes):\")\n",
        "    full_year['tripduration'] = full_year['tripduration'] / 60  # Convert seconds to minutes\n",
        "    print(full_year['tripduration'].describe())\n",
        "\n",
        "# Example: Distribution of User Types (if applicable)\n",
        "if 'user_type' in full_year.columns:\n",
        "    print(\"\\nUser Type Distribution:\")\n",
        "    print(full_year['user_type'].value_counts())\n"
      ],
      "metadata": {
        "colab": {
          "base_uri": "https://localhost:8080/"
        },
        "id": "myBGS_QXPMtJ",
        "outputId": "4f7e34b3-cb59-4b9d-c013-2a4665d9e69d"
      },
      "execution_count": 2,
      "outputs": [
        {
          "output_type": "stream",
          "name": "stdout",
          "text": [
            "Dataset Overview:\n",
            "Number of rows: 5860568\n",
            "Number of columns: 13\n",
            "\n",
            "Column Information:\n",
            "<class 'pandas.core.frame.DataFrame'>\n",
            "RangeIndex: 5860568 entries, 0 to 5860567\n",
            "Data columns (total 13 columns):\n",
            " #   Column              Dtype  \n",
            "---  ------              -----  \n",
            " 0   ride_id             object \n",
            " 1   rideable_type       object \n",
            " 2   started_at          object \n",
            " 3   ended_at            object \n",
            " 4   start_station_name  object \n",
            " 5   start_station_id    object \n",
            " 6   end_station_name    object \n",
            " 7   end_station_id      object \n",
            " 8   start_lat           float64\n",
            " 9   start_lng           float64\n",
            " 10  end_lat             float64\n",
            " 11  end_lng             float64\n",
            " 12  member_casual       object \n",
            "dtypes: float64(4), object(9)\n",
            "memory usage: 581.3+ MB\n",
            "None\n",
            "\n",
            "Statistical Summary for Numeric Columns:\n",
            "          start_lat     start_lng       end_lat       end_lng\n",
            "count  5.860568e+06  5.860568e+06  5.853336e+06  5.853336e+06\n",
            "mean   4.190218e+01 -8.764622e+01  4.190258e+01 -8.764644e+01\n",
            "std    4.474907e-02  2.748958e-02  5.598336e-02  1.136824e-01\n",
            "min    4.164000e+01 -8.791000e+01  1.606000e+01 -1.440500e+02\n",
            "25%    4.188096e+01 -8.766000e+01  4.188096e+01 -8.766000e+01\n",
            "50%    4.189736e+01 -8.764182e+01  4.189776e+01 -8.764288e+01\n",
            "75%    4.193000e+01 -8.762952e+01  4.193000e+01 -8.762954e+01\n",
            "max    4.207000e+01 -8.752000e+01  8.796000e+01  1.525300e+02\n",
            "\n",
            "Missing Values per Column:\n",
            "ride_id                     0\n",
            "rideable_type               0\n",
            "started_at                  0\n",
            "ended_at                    0\n",
            "start_station_name    1073951\n",
            "start_station_id      1073951\n",
            "end_station_name      1104653\n",
            "end_station_id        1104653\n",
            "start_lat                   0\n",
            "start_lng                   0\n",
            "end_lat                  7232\n",
            "end_lng                  7232\n",
            "member_casual               0\n",
            "dtype: int64\n",
            "\n",
            "Unique Values in Categorical Columns:\n",
            "ride_id: 5860357 unique values\n",
            "rideable_type: 3 unique values\n",
            "started_at: 5649602 unique values\n",
            "ended_at: 5652165 unique values\n",
            "start_station_name: 1808 unique values\n",
            "start_station_id: 1763 unique values\n",
            "end_station_name: 1815 unique values\n",
            "end_station_id: 1768 unique values\n",
            "member_casual: 2 unique values\n",
            "\n",
            "Top 5 Start Stations:\n",
            "start_station_name\n",
            "Streeter Dr & Grand Ave               66020\n",
            "DuSable Lake Shore Dr & Monroe St     43969\n",
            "Kingsbury St & Kinzie St              39659\n",
            "Michigan Ave & Oak St                 39634\n",
            "DuSable Lake Shore Dr & North Blvd    39621\n",
            "Name: count, dtype: int64\n"
          ]
        }
      ]
    },
    {
      "cell_type": "markdown",
      "source": [
        "Now, drop missing values using dropna()"
      ],
      "metadata": {
        "id": "-G3oRQzXRZVd"
      }
    },
    {
      "cell_type": "code",
      "source": [
        "import pandas as pd\n",
        "\n",
        "# Load the combined dataset (if not already loaded)\n",
        "full_year = pd.read_csv(\"divvy_full_year.csv\")\n",
        "\n",
        "# Display the number of missing values before dropping\n",
        "print(\"Missing Values per Column Before Dropping:\")\n",
        "print(full_year.isnull().sum())\n",
        "\n",
        "# Drop rows with missing values\n",
        "full_year_cleaned = full_year.dropna()\n",
        "\n",
        "# Display the number of rows after dropping missing values\n",
        "print(\"\\nNumber of rows before dropping missing values:\", full_year.shape[0])\n",
        "print(\"Number of rows after dropping missing values:\", full_year_cleaned.shape[0])\n",
        "\n",
        "# Save the cleaned dataset (optional)\n",
        "full_year_cleaned.to_csv(\"divvy_full_year_cleaned.csv\", index=False)\n",
        "print(\"\\nCleaned dataset saved as 'divvy_full_year_cleaned.csv'.\")\n"
      ],
      "metadata": {
        "colab": {
          "base_uri": "https://localhost:8080/"
        },
        "id": "r07cgAcjRdRO",
        "outputId": "356a7448-e925-40cd-a21e-6b940103a614"
      },
      "execution_count": 3,
      "outputs": [
        {
          "output_type": "stream",
          "name": "stdout",
          "text": [
            "Missing Values per Column Before Dropping:\n",
            "ride_id                     0\n",
            "rideable_type               0\n",
            "started_at                  0\n",
            "ended_at                    0\n",
            "start_station_name    1073951\n",
            "start_station_id      1073951\n",
            "end_station_name      1104653\n",
            "end_station_id        1104653\n",
            "start_lat                   0\n",
            "start_lng                   0\n",
            "end_lat                  7232\n",
            "end_lng                  7232\n",
            "member_casual               0\n",
            "dtype: int64\n",
            "\n",
            "Number of rows before dropping missing values: 5860568\n",
            "Number of rows after dropping missing values: 4208309\n",
            "\n",
            "Cleaned dataset saved as 'divvy_full_year_cleaned.csv'.\n"
          ]
        }
      ]
    },
    {
      "cell_type": "markdown",
      "source": [
        "**PROBLEM**: the station_id columns (start and end both) are in the wrong data type (chr) needs to be converted to numeric to perform analysis##\n"
      ],
      "metadata": {
        "id": "xNtYKH5LR-z_"
      }
    },
    {
      "cell_type": "code",
      "source": [
        "import pandas as pd\n",
        "\n",
        "# Load the cleaned dataset\n",
        "full_year_cleaned = pd.read_csv(\"divvy_full_year_cleaned.csv\")\n",
        "\n",
        "# Convert station_id columns to numeric\n",
        "full_year_cleaned['start_station_id'] = pd.to_numeric(full_year_cleaned['start_station_id'], errors='coerce')\n",
        "full_year_cleaned['end_station_id'] = pd.to_numeric(full_year_cleaned['end_station_id'], errors='coerce')\n",
        "\n",
        "# Check the data types of the columns\n",
        "print(full_year_cleaned.dtypes)\n",
        "\n",
        "# Check for any rows with missing values after conversion (due to coercion)\n",
        "print(\"Missing values after type conversion:\")\n",
        "print(full_year_cleaned[['start_station_id', 'end_station_id']].isnull().sum())\n",
        "\n",
        "# Save the updated dataset (optional)\n",
        "full_year_cleaned.to_csv(\"divvy_full_year_cleaned_v01.csv\", index=False)\n",
        "print(\"\\nUpdated dataset saved as 'divvy_full_year_cleaned_v01.csv'.\")\n"
      ],
      "metadata": {
        "colab": {
          "base_uri": "https://localhost:8080/"
        },
        "id": "TFVETHwtSFhr",
        "outputId": "aa94b250-a0ee-40d7-9d3e-2c2b2fb562e9"
      },
      "execution_count": 4,
      "outputs": [
        {
          "output_type": "stream",
          "name": "stdout",
          "text": [
            "ride_id                object\n",
            "rideable_type          object\n",
            "started_at             object\n",
            "ended_at               object\n",
            "start_station_name     object\n",
            "start_station_id      float64\n",
            "end_station_name       object\n",
            "end_station_id        float64\n",
            "start_lat             float64\n",
            "start_lng             float64\n",
            "end_lat               float64\n",
            "end_lng               float64\n",
            "member_casual          object\n",
            "dtype: object\n",
            "Missing values after type conversion:\n",
            "start_station_id    2289915\n",
            "end_station_id      2292582\n",
            "dtype: int64\n",
            "\n",
            "Updated dataset saved as 'divvy_full_year_cleaned_v01.csv'.\n"
          ]
        }
      ]
    },
    {
      "cell_type": "markdown",
      "source": [
        "# Other problems that need to be addressed:\n",
        "## (1) The data can only be aggregated at the ride-level, which is too granular.\n",
        "## adding some additional columns of data such as day, month, year improves the analysis,\n",
        "## it provides additional opportunities to aggregate the data.\n",
        "## Because of the settings of my laptop R automatically formats the days of the weeks in Dutch. Have not found a workaround to change this!"
      ],
      "metadata": {
        "id": "QlT48lD5Tirw"
      }
    },
    {
      "cell_type": "code",
      "source": [
        "import pandas as pd\n",
        "\n",
        "# Load the dataset\n",
        "full_year_cleaned = pd.read_csv(\"divvy_full_year_cleaned.csv\")\n",
        "\n",
        "# Ensure 'started_at' is in datetime format\n",
        "full_year_cleaned['date'] = pd.to_datetime(full_year_cleaned['started_at'], errors='coerce')\n",
        "\n",
        "# Extract month, day, year, and day_of_week\n",
        "full_year_cleaned['month'] = full_year_cleaned['date'].dt.month\n",
        "full_year_cleaned['month_day'] = full_year_cleaned['date'].dt.day\n",
        "full_year_cleaned['year'] = full_year_cleaned['date'].dt.year\n",
        "full_year_cleaned['day_of_week'] = full_year_cleaned['date'].dt.day_name()\n",
        "\n",
        "# Check the data structure\n",
        "print(full_year_cleaned.info())\n",
        "\n",
        "# Save the updated dataset (optional)\n",
        "full_year_cleaned.to_csv(\"divvy_full_year_cleaned_v02.csv\", index=False)\n",
        "print(\"\\nUpdated dataset saved as 'divvy_full_year_cleaned_v02.csv'.\")\n"
      ],
      "metadata": {
        "colab": {
          "base_uri": "https://localhost:8080/"
        },
        "id": "4fQ8l2TlTke9",
        "outputId": "534548b1-bf12-41be-f058-1d05959fb91e"
      },
      "execution_count": 5,
      "outputs": [
        {
          "output_type": "stream",
          "name": "stdout",
          "text": [
            "<class 'pandas.core.frame.DataFrame'>\n",
            "RangeIndex: 4208309 entries, 0 to 4208308\n",
            "Data columns (total 18 columns):\n",
            " #   Column              Dtype         \n",
            "---  ------              -----         \n",
            " 0   ride_id             object        \n",
            " 1   rideable_type       object        \n",
            " 2   started_at          object        \n",
            " 3   ended_at            object        \n",
            " 4   start_station_name  object        \n",
            " 5   start_station_id    object        \n",
            " 6   end_station_name    object        \n",
            " 7   end_station_id      object        \n",
            " 8   start_lat           float64       \n",
            " 9   start_lng           float64       \n",
            " 10  end_lat             float64       \n",
            " 11  end_lng             float64       \n",
            " 12  member_casual       object        \n",
            " 13  date                datetime64[ns]\n",
            " 14  month               float64       \n",
            " 15  month_day           float64       \n",
            " 16  year                float64       \n",
            " 17  day_of_week         object        \n",
            "dtypes: datetime64[ns](1), float64(7), object(10)\n",
            "memory usage: 577.9+ MB\n",
            "None\n",
            "\n",
            "Updated dataset saved as 'divvy_full_year_cleaned_v02.csv'.\n"
          ]
        }
      ]
    },
    {
      "cell_type": "markdown",
      "source": [
        "## (2) The ride length_column holds a date PLUS the time, I only want to preserve the time part of the column\n",
        "## Alternative: used the timediff function to calculate the ridelength and dropping the existing ride_length column"
      ],
      "metadata": {
        "id": "iDaEjGGbUKZI"
      }
    },
    {
      "cell_type": "code",
      "source": [
        "import pandas as pd\n",
        "\n",
        "# Load the dataset\n",
        "full_year_cleaned = pd.read_csv(\"divvy_full_year_cleaned_v02.csv\")\n",
        "\n",
        "# Ensure 'started_at' and 'ended_at' are in datetime format\n",
        "full_year_cleaned['started_at'] = pd.to_datetime(full_year_cleaned['started_at'], errors='coerce')\n",
        "full_year_cleaned['ended_at'] = pd.to_datetime(full_year_cleaned['ended_at'], errors='coerce')\n",
        "\n",
        "# Step 1: Drop the existing 'ride_length' column if it exists\n",
        "if 'ride_length' in full_year_cleaned.columns:\n",
        "    full_year_cleaned.drop(columns=['ride_length'], inplace=True)\n",
        "\n",
        "# Step 2: Add a new 'ride_length' column\n",
        "# Calculate the difference in time between 'ended_at' and 'started_at'\n",
        "full_year_cleaned['ride_length'] = (full_year_cleaned['ended_at'] - full_year_cleaned['started_at']).dt.total_seconds()\n",
        "\n",
        "# Step 3: Inspect the structure of the dataset\n",
        "print(full_year_cleaned.info())\n",
        "print(full_year_cleaned[['started_at', 'ended_at', 'ride_length']].head())\n",
        "\n",
        "# Save the updated dataset (optional)\n",
        "full_year_cleaned.to_csv(\"divvy_full_year_cleaned_v03.csv\", index=False)\n",
        "print(\"\\nUpdated dataset saved as 'divvy_full_year_cleaned_v03.csv'.\")\n"
      ],
      "metadata": {
        "colab": {
          "base_uri": "https://localhost:8080/"
        },
        "id": "JManUIpVU9he",
        "outputId": "e86f00f7-bee4-40a8-8e25-08c294ed544c"
      },
      "execution_count": 36,
      "outputs": [
        {
          "output_type": "stream",
          "name": "stderr",
          "text": [
            "<ipython-input-36-d65a66dcf992>:4: DtypeWarning: Columns (13,17) have mixed types. Specify dtype option on import or set low_memory=False.\n",
            "  full_year_cleaned = pd.read_csv(\"divvy_full_year_cleaned_v02.csv\")\n"
          ]
        },
        {
          "output_type": "stream",
          "name": "stdout",
          "text": [
            "<class 'pandas.core.frame.DataFrame'>\n",
            "RangeIndex: 4208309 entries, 0 to 4208308\n",
            "Data columns (total 19 columns):\n",
            " #   Column              Dtype         \n",
            "---  ------              -----         \n",
            " 0   ride_id             object        \n",
            " 1   rideable_type       object        \n",
            " 2   started_at          datetime64[ns]\n",
            " 3   ended_at            datetime64[ns]\n",
            " 4   start_station_name  object        \n",
            " 5   start_station_id    object        \n",
            " 6   end_station_name    object        \n",
            " 7   end_station_id      object        \n",
            " 8   start_lat           float64       \n",
            " 9   start_lng           float64       \n",
            " 10  end_lat             float64       \n",
            " 11  end_lng             float64       \n",
            " 12  member_casual       object        \n",
            " 13  date                object        \n",
            " 14  month               float64       \n",
            " 15  month_day           float64       \n",
            " 16  year                float64       \n",
            " 17  day_of_week         object        \n",
            " 18  ride_length         float64       \n",
            "dtypes: datetime64[ns](2), float64(8), object(9)\n",
            "memory usage: 610.0+ MB\n",
            "None\n",
            "           started_at            ended_at  ride_length\n",
            "0 2024-01-12 15:30:27 2024-01-12 15:37:59        452.0\n",
            "1 2024-01-08 15:45:46 2024-01-08 15:52:59        433.0\n",
            "2 2024-01-27 12:27:19 2024-01-27 12:35:19        480.0\n",
            "3 2024-01-29 16:26:17 2024-01-29 16:56:06       1789.0\n",
            "4 2024-01-31 05:43:23 2024-01-31 06:09:35       1572.0\n",
            "\n",
            "Updated dataset saved as 'divvy_full_year_cleaned_v03.csv'.\n"
          ]
        }
      ]
    },
    {
      "cell_type": "markdown",
      "source": [
        "Check if ride_length is numeric:"
      ],
      "metadata": {
        "id": "oIBaFUs9VtYt"
      }
    },
    {
      "cell_type": "code",
      "source": [
        "# Check if 'ride_length' is numeric\n",
        "print(full_year_cleaned['ride_length'].dtype)"
      ],
      "metadata": {
        "colab": {
          "base_uri": "https://localhost:8080/"
        },
        "id": "_MEv-_tmVt76",
        "outputId": "d7b9744d-89e3-43bc-89fe-3b34205d3605"
      },
      "execution_count": 37,
      "outputs": [
        {
          "output_type": "stream",
          "name": "stdout",
          "text": [
            "float64\n"
          ]
        }
      ]
    },
    {
      "cell_type": "markdown",
      "source": [
        "To filter rows where the start_station_name is \"HQ QR\", use the following code:\n",
        "\n"
      ],
      "metadata": {
        "id": "-VoahvZOWKrJ"
      }
    },
    {
      "cell_type": "code",
      "source": [
        "# Filter rows where start_station_name is \"HQ QR\"\n",
        "filtered_data = full_year_cleaned[full_year_cleaned['start_station_name'] == \"HQ QR\"]\n",
        "\n",
        "# Display the filtered data\n",
        "print(filtered_data)\n",
        "\n",
        "# Check the number of rows filtered\n",
        "print(f\"Number of rides starting at HQ QR: {len(filtered_data)}\")\n"
      ],
      "metadata": {
        "colab": {
          "base_uri": "https://localhost:8080/"
        },
        "id": "Hkpz7HpBVvHz",
        "outputId": "cae8b75b-cd2b-4c79-b59e-4af46c3e7cc4"
      },
      "execution_count": 38,
      "outputs": [
        {
          "output_type": "stream",
          "name": "stdout",
          "text": [
            "Empty DataFrame\n",
            "Columns: [ride_id, rideable_type, started_at, ended_at, start_station_name, start_station_id, end_station_name, end_station_id, start_lat, start_lng, end_lat, end_lng, member_casual, date, month, month_day, year, day_of_week, ride_length]\n",
            "Index: []\n",
            "Number of rides starting at HQ QR: 0\n"
          ]
        }
      ]
    },
    {
      "cell_type": "markdown",
      "source": [
        "# Remove \"bad\" data\n",
        "# The dataframe includes entries when bikes were taken out of docks and checked for quality by Divvy or ride_length was negative"
      ],
      "metadata": {
        "id": "eTH-556-XIDR"
      }
    },
    {
      "cell_type": "code",
      "source": [
        "# Remove \"bad\" data\n",
        "# Condition: Exclude rows where start_station_name is \"HQ QR\" or ride_length < 1\n",
        "full_year_cleaned = full_year_cleaned[\n",
        "    ~((full_year_cleaned['start_station_name'] == \"HQ QR\") | (full_year_cleaned['ride_length'] < 1))\n",
        "]\n",
        "\n",
        "# Check for missing values\n",
        "missing_values_count = full_year_cleaned.isna().sum().sum()\n",
        "print(f\"Total missing values: {missing_values_count}\")\n",
        "\n",
        "# Display cleaned dataset structure and first few rows\n",
        "print(full_year_cleaned.info())  # Structure of the dataframe\n",
        "print(full_year_cleaned.head())  # Preview first few rows\n"
      ],
      "metadata": {
        "colab": {
          "base_uri": "https://localhost:8080/"
        },
        "id": "Wrr74MDoWWP4",
        "outputId": "3d3d15cc-46b8-4f6c-b338-b8e3e78b57f0"
      },
      "execution_count": 39,
      "outputs": [
        {
          "output_type": "stream",
          "name": "stdout",
          "text": [
            "Total missing values: 23516168\n",
            "<class 'pandas.core.frame.DataFrame'>\n",
            "Index: 4208122 entries, 0 to 4208308\n",
            "Data columns (total 19 columns):\n",
            " #   Column              Dtype         \n",
            "---  ------              -----         \n",
            " 0   ride_id             object        \n",
            " 1   rideable_type       object        \n",
            " 2   started_at          datetime64[ns]\n",
            " 3   ended_at            datetime64[ns]\n",
            " 4   start_station_name  object        \n",
            " 5   start_station_id    object        \n",
            " 6   end_station_name    object        \n",
            " 7   end_station_id      object        \n",
            " 8   start_lat           float64       \n",
            " 9   start_lng           float64       \n",
            " 10  end_lat             float64       \n",
            " 11  end_lng             float64       \n",
            " 12  member_casual       object        \n",
            " 13  date                object        \n",
            " 14  month               float64       \n",
            " 15  month_day           float64       \n",
            " 16  year                float64       \n",
            " 17  day_of_week         object        \n",
            " 18  ride_length         float64       \n",
            "dtypes: datetime64[ns](2), float64(8), object(9)\n",
            "memory usage: 642.1+ MB\n",
            "None\n",
            "            ride_id  rideable_type          started_at            ended_at  \\\n",
            "0  C1D650626C8C899A  electric_bike 2024-01-12 15:30:27 2024-01-12 15:37:59   \n",
            "1  EECD38BDB25BFCB0  electric_bike 2024-01-08 15:45:46 2024-01-08 15:52:59   \n",
            "2  F4A9CE78061F17F7  electric_bike 2024-01-27 12:27:19 2024-01-27 12:35:19   \n",
            "3  0A0D9E15EE50B171   classic_bike 2024-01-29 16:26:17 2024-01-29 16:56:06   \n",
            "4  33FFC9805E3EFF9A   classic_bike 2024-01-31 05:43:23 2024-01-31 06:09:35   \n",
            "\n",
            "           start_station_name start_station_id           end_station_name  \\\n",
            "0           Wells St & Elm St     KA1504000135   Kingsbury St & Kinzie St   \n",
            "1           Wells St & Elm St     KA1504000135   Kingsbury St & Kinzie St   \n",
            "2           Wells St & Elm St     KA1504000135   Kingsbury St & Kinzie St   \n",
            "3      Wells St & Randolph St     TA1305000030  Larrabee St & Webster Ave   \n",
            "4  Lincoln Ave & Waveland Ave            13253   Kingsbury St & Kinzie St   \n",
            "\n",
            "  end_station_id  start_lat  start_lng    end_lat    end_lng member_casual  \\\n",
            "0   KA1503000043  41.903267 -87.634737  41.889177 -87.638506        member   \n",
            "1   KA1503000043  41.902937 -87.634440  41.889177 -87.638506        member   \n",
            "2   KA1503000043  41.902951 -87.634470  41.889177 -87.638506        member   \n",
            "3          13193  41.884295 -87.633963  41.921822 -87.644140        member   \n",
            "4   KA1503000043  41.948797 -87.675278  41.889177 -87.638506        member   \n",
            "\n",
            "                  date  month  month_day    year day_of_week  ride_length  \n",
            "0  2024-01-12 15:30:27    1.0       12.0  2024.0      Friday        452.0  \n",
            "1  2024-01-08 15:45:46    1.0        8.0  2024.0      Monday        433.0  \n",
            "2  2024-01-27 12:27:19    1.0       27.0  2024.0    Saturday        480.0  \n",
            "3  2024-01-29 16:26:17    1.0       29.0  2024.0      Monday       1789.0  \n",
            "4  2024-01-31 05:43:23    1.0       31.0  2024.0   Wednesday       1572.0  \n"
          ]
        }
      ]
    },
    {
      "cell_type": "markdown",
      "source": [
        "# Descriptive analysis"
      ],
      "metadata": {
        "id": "BzLkxu_0X3HW"
      }
    },
    {
      "cell_type": "code",
      "source": [
        "# Descriptive analysis on ride_length (all values in seconds, then converted to minutes)\n",
        "mean_ride_length_minutes = full_year_cleaned['ride_length'].mean() / 60\n",
        "median_ride_length_minutes = full_year_cleaned['ride_length'].median() / 60\n",
        "max_ride_length_minutes = full_year_cleaned['ride_length'].max() / 60\n",
        "min_ride_length_minutes = full_year_cleaned['ride_length'].min() / 60\n",
        "\n",
        "# Print results\n",
        "print(f\"Mean Ride Length: {mean_ride_length_minutes} minutes\")\n",
        "print(f\"Median Ride Length: {median_ride_length_minutes} minutes\")\n",
        "print(f\"Max Ride Length: {max_ride_length_minutes} minutes\")\n",
        "print(f\"Min Ride Length: {min_ride_length_minutes} minutes\")\n"
      ],
      "metadata": {
        "colab": {
          "base_uri": "https://localhost:8080/"
        },
        "id": "8uyu5Tc_X6Mx",
        "outputId": "1c8282e4-9482-4c2b-9e54-6c010654537d"
      },
      "execution_count": 40,
      "outputs": [
        {
          "output_type": "stream",
          "name": "stdout",
          "text": [
            "Mean Ride Length: 15.874831421910171 minutes\n",
            "Median Ride Length: 9.533333333333333 minutes\n",
            "Max Ride Length: 1509.3666666666666 minutes\n",
            "Min Ride Length: 0.016666666666666666 minutes\n"
          ]
        }
      ]
    },
    {
      "cell_type": "markdown",
      "source": [
        "# Discovered that the max ride_length is longer than 24 hours! (58720 minutes / >40 days!) This skews the results of the analysis.\n",
        "## Set a limit to the max amount of time that a bike could be used to 24 hours (<86400 seconds)"
      ],
      "metadata": {
        "id": "FtwBFAE5Y5xf"
      }
    },
    {
      "cell_type": "code",
      "source": [
        "# Remove rows where ride_length is greater than 86,400 seconds (24 hours)\n",
        "full_year_cleaned = full_year_cleaned[full_year_cleaned['ride_length'] <= 86400]\n",
        "\n",
        "# Verify by checking the first few rows and the structure\n",
        "print(full_year_cleaned.head())\n",
        "print(full_year_cleaned.info())\n"
      ],
      "metadata": {
        "colab": {
          "base_uri": "https://localhost:8080/"
        },
        "id": "K_3QHJ6RY9rQ",
        "outputId": "6d60ecd1-557f-4b5e-88e4-1711364d38db"
      },
      "execution_count": 41,
      "outputs": [
        {
          "output_type": "stream",
          "name": "stdout",
          "text": [
            "            ride_id  rideable_type          started_at            ended_at  \\\n",
            "0  C1D650626C8C899A  electric_bike 2024-01-12 15:30:27 2024-01-12 15:37:59   \n",
            "1  EECD38BDB25BFCB0  electric_bike 2024-01-08 15:45:46 2024-01-08 15:52:59   \n",
            "2  F4A9CE78061F17F7  electric_bike 2024-01-27 12:27:19 2024-01-27 12:35:19   \n",
            "3  0A0D9E15EE50B171   classic_bike 2024-01-29 16:26:17 2024-01-29 16:56:06   \n",
            "4  33FFC9805E3EFF9A   classic_bike 2024-01-31 05:43:23 2024-01-31 06:09:35   \n",
            "\n",
            "           start_station_name start_station_id           end_station_name  \\\n",
            "0           Wells St & Elm St     KA1504000135   Kingsbury St & Kinzie St   \n",
            "1           Wells St & Elm St     KA1504000135   Kingsbury St & Kinzie St   \n",
            "2           Wells St & Elm St     KA1504000135   Kingsbury St & Kinzie St   \n",
            "3      Wells St & Randolph St     TA1305000030  Larrabee St & Webster Ave   \n",
            "4  Lincoln Ave & Waveland Ave            13253   Kingsbury St & Kinzie St   \n",
            "\n",
            "  end_station_id  start_lat  start_lng    end_lat    end_lng member_casual  \\\n",
            "0   KA1503000043  41.903267 -87.634737  41.889177 -87.638506        member   \n",
            "1   KA1503000043  41.902937 -87.634440  41.889177 -87.638506        member   \n",
            "2   KA1503000043  41.902951 -87.634470  41.889177 -87.638506        member   \n",
            "3          13193  41.884295 -87.633963  41.921822 -87.644140        member   \n",
            "4   KA1503000043  41.948797 -87.675278  41.889177 -87.638506        member   \n",
            "\n",
            "                  date  month  month_day    year day_of_week  ride_length  \n",
            "0  2024-01-12 15:30:27    1.0       12.0  2024.0      Friday        452.0  \n",
            "1  2024-01-08 15:45:46    1.0        8.0  2024.0      Monday        433.0  \n",
            "2  2024-01-27 12:27:19    1.0       27.0  2024.0    Saturday        480.0  \n",
            "3  2024-01-29 16:26:17    1.0       29.0  2024.0      Monday       1789.0  \n",
            "4  2024-01-31 05:43:23    1.0       31.0  2024.0   Wednesday       1572.0  \n",
            "<class 'pandas.core.frame.DataFrame'>\n",
            "Index: 1268538 entries, 0 to 1268787\n",
            "Data columns (total 19 columns):\n",
            " #   Column              Non-Null Count    Dtype         \n",
            "---  ------              --------------    -----         \n",
            " 0   ride_id             1268538 non-null  object        \n",
            " 1   rideable_type       1268538 non-null  object        \n",
            " 2   started_at          1268538 non-null  datetime64[ns]\n",
            " 3   ended_at            1268538 non-null  datetime64[ns]\n",
            " 4   start_station_name  1268538 non-null  object        \n",
            " 5   start_station_id    1268538 non-null  object        \n",
            " 6   end_station_name    1268538 non-null  object        \n",
            " 7   end_station_id      1268538 non-null  object        \n",
            " 8   start_lat           1268538 non-null  float64       \n",
            " 9   start_lng           1268538 non-null  float64       \n",
            " 10  end_lat             1268538 non-null  float64       \n",
            " 11  end_lng             1268538 non-null  float64       \n",
            " 12  member_casual       1268538 non-null  object        \n",
            " 13  date                1268538 non-null  object        \n",
            " 14  month               1268538 non-null  float64       \n",
            " 15  month_day           1268538 non-null  float64       \n",
            " 16  year                1268538 non-null  float64       \n",
            " 17  day_of_week         1268538 non-null  object        \n",
            " 18  ride_length         1268538 non-null  float64       \n",
            "dtypes: datetime64[ns](2), float64(8), object(9)\n",
            "memory usage: 193.6+ MB\n",
            "None\n"
          ]
        }
      ]
    },
    {
      "cell_type": "code",
      "source": [
        "# Convert ride_length to minutes\n",
        "full_year_cleaned['ride_length_minutes'] = full_year_cleaned['ride_length'] / 60\n",
        "\n",
        "# Group by 'member_casual' and calculate mean, median, max, and min\n",
        "mean_ride_length = full_year_cleaned.groupby('member_casual')['ride_length_minutes'].mean()\n",
        "median_ride_length = full_year_cleaned.groupby('member_casual')['ride_length_minutes'].median()\n",
        "max_ride_length = full_year_cleaned.groupby('member_casual')['ride_length_minutes'].max()\n",
        "min_ride_length = full_year_cleaned.groupby('member_casual')['ride_length_minutes'].min()\n",
        "\n",
        "# Print results\n",
        "print(\"Mean Ride Length by User Type:\")\n",
        "print(mean_ride_length)\n",
        "\n",
        "print(\"\\nMedian Ride Length by User Type:\")\n",
        "print(median_ride_length)\n",
        "\n",
        "print(\"\\nMax Ride Length by User Type:\")\n",
        "print(max_ride_length)\n",
        "\n",
        "print(\"\\nMin Ride Length by User Type:\")\n",
        "print(min_ride_length)\n"
      ],
      "metadata": {
        "colab": {
          "base_uri": "https://localhost:8080/"
        },
        "id": "dEhWk1HkZfkT",
        "outputId": "fdd061bb-ec24-4354-c362-3ae48c2a4ecf"
      },
      "execution_count": 42,
      "outputs": [
        {
          "output_type": "stream",
          "name": "stdout",
          "text": [
            "Mean Ride Length by User Type:\n",
            "member_casual\n",
            "casual    24.181936\n",
            "member    12.218811\n",
            "Name: ride_length_minutes, dtype: float64\n",
            "\n",
            "Median Ride Length by User Type:\n",
            "member_casual\n",
            "casual    13.166667\n",
            "member     8.483333\n",
            "Name: ride_length_minutes, dtype: float64\n",
            "\n",
            "Max Ride Length by User Type:\n",
            "member_casual\n",
            "casual    1439.833333\n",
            "member    1437.766667\n",
            "Name: ride_length_minutes, dtype: float64\n",
            "\n",
            "Min Ride Length by User Type:\n",
            "member_casual\n",
            "casual    0.016667\n",
            "member    0.016667\n",
            "Name: ride_length_minutes, dtype: float64\n"
          ]
        }
      ]
    },
    {
      "cell_type": "code",
      "source": [
        "# Group by 'member_casual' and 'day_of_week', then calculate the mean ride length\n",
        "avg_ride_time_by_day = full_year_cleaned.groupby(['member_casual', 'day_of_week'])['ride_length_minutes'].mean().reset_index()\n",
        "\n",
        "# Print the results\n",
        "print(avg_ride_time_by_day)\n"
      ],
      "metadata": {
        "colab": {
          "base_uri": "https://localhost:8080/"
        },
        "id": "zIYeHQxIZyv7",
        "outputId": "31efe8cd-4307-43a7-91d7-2b174c6386d1"
      },
      "execution_count": 43,
      "outputs": [
        {
          "output_type": "stream",
          "name": "stdout",
          "text": [
            "   member_casual day_of_week  ride_length_minutes\n",
            "0         casual      Friday            22.709605\n",
            "1         casual      Monday            24.181812\n",
            "2         casual    Saturday            27.918076\n",
            "3         casual      Sunday            28.562092\n",
            "4         casual    Thursday            19.409630\n",
            "5         casual     Tuesday            20.629669\n",
            "6         casual   Wednesday            21.058903\n",
            "7         member      Friday            11.628880\n",
            "8         member      Monday            11.813612\n",
            "9         member    Saturday            14.007320\n",
            "10        member      Sunday            13.645731\n",
            "11        member    Thursday            11.419769\n",
            "12        member     Tuesday            11.949540\n",
            "13        member   Wednesday            11.958688\n"
          ]
        }
      ]
    },
    {
      "cell_type": "code",
      "source": [
        "# Strip leading/trailing spaces and convert to proper case\n",
        "full_year_cleaned['day_of_week'] = full_year_cleaned['day_of_week'].str.strip().str.capitalize()\n",
        "\n",
        "# Reorder days of the week to match the correct English names\n",
        "day_order = [\"Monday\", \"Tuesday\", \"Wednesday\", \"Thursday\", \"Friday\", \"Saturday\", \"Sunday\"]\n",
        "\n",
        "# Apply categorical ordering\n",
        "full_year_cleaned['day_of_week'] = pd.Categorical(full_year_cleaned['day_of_week'], categories=day_order, ordered=True)\n",
        "\n",
        "# Check the first few entries to confirm correct ordering\n",
        "print(full_year_cleaned['day_of_week'].head())\n",
        "\n"
      ],
      "metadata": {
        "colab": {
          "base_uri": "https://localhost:8080/"
        },
        "id": "k6-8UMq-Z52Q",
        "outputId": "8209f96e-ed6c-4e1a-cf15-dec7e447ef73"
      },
      "execution_count": 44,
      "outputs": [
        {
          "output_type": "stream",
          "name": "stdout",
          "text": [
            "0       Friday\n",
            "1       Monday\n",
            "2     Saturday\n",
            "3       Monday\n",
            "4    Wednesday\n",
            "Name: day_of_week, dtype: category\n",
            "Categories (7, object): ['Monday' < 'Tuesday' < 'Wednesday' < 'Thursday' < 'Friday' < 'Saturday' <\n",
            "                         'Sunday']\n"
          ]
        }
      ]
    },
    {
      "cell_type": "markdown",
      "source": [
        "# Check if 'day_of_week' is an ordered category\n"
      ],
      "metadata": {
        "id": "rbQN0gdEdGjI"
      }
    },
    {
      "cell_type": "code",
      "source": [
        "# Check if 'day_of_week' is an ordered category\n",
        "full_year_cleaned2 = full_year_cleaned\n",
        "full_year_cleaned['day_of_week'] = pd.Categorical(full_year_cleaned['day_of_week'],\n",
        "                                                  categories=[\"Monday\", \"Tuesday\", \"Wednesday\", \"Thursday\", \"Friday\", \"Saturday\", \"Sunday\"], ordered=True)\n",
        "\n",
        "# Now perform the aggregation and check for the average ride length by each day for members vs casual users\n",
        "result = full_year_cleaned.groupby(['member_casual', 'day_of_week'])['ride_length'].mean().reset_index()\n",
        "\n",
        "# Output the result to confirm it's in the correct order\n",
        "print(result)\n"
      ],
      "metadata": {
        "colab": {
          "base_uri": "https://localhost:8080/"
        },
        "id": "djAn7fZ1dH9b",
        "outputId": "aa69eae4-d795-4fdc-f11d-962ef58aa455"
      },
      "execution_count": 45,
      "outputs": [
        {
          "output_type": "stream",
          "name": "stdout",
          "text": [
            "   member_casual day_of_week  ride_length\n",
            "0         casual      Monday  1450.908723\n",
            "1         casual     Tuesday  1237.780140\n",
            "2         casual   Wednesday  1263.534162\n",
            "3         casual    Thursday  1164.577816\n",
            "4         casual      Friday  1362.576274\n",
            "5         casual    Saturday  1675.084583\n",
            "6         casual      Sunday  1713.725495\n",
            "7         member      Monday   708.816720\n",
            "8         member     Tuesday   716.972419\n",
            "9         member   Wednesday   717.521300\n",
            "10        member    Thursday   685.186144\n",
            "11        member      Friday   697.732829\n",
            "12        member    Saturday   840.439183\n",
            "13        member      Sunday   818.743879\n"
          ]
        },
        {
          "output_type": "stream",
          "name": "stderr",
          "text": [
            "<ipython-input-45-9f035adb8893>:7: FutureWarning: The default of observed=False is deprecated and will be changed to True in a future version of pandas. Pass observed=False to retain current behavior or observed=True to adopt the future default and silence this warning.\n",
            "  result = full_year_cleaned.groupby(['member_casual', 'day_of_week'])['ride_length'].mean().reset_index()\n"
          ]
        }
      ]
    },
    {
      "cell_type": "code",
      "source": [
        "# Check if 'day_of_week' is an ordered category\n",
        "full_year_cleaned['day_of_week'] = pd.Categorical(full_year_cleaned['day_of_week'],\n",
        "                                                  categories=[\"Monday\", \"Tuesday\", \"Wednesday\", \"Thursday\", \"Friday\", \"Saturday\", \"Sunday\"], ordered=True)\n",
        "\n",
        "# Now perform the aggregation and check for the average ride length by each day for members vs casual users\n",
        "result = full_year_cleaned.groupby(['member_casual', 'day_of_week'])['ride_length'].mean().reset_index()\n",
        "\n",
        "# Output the result to confirm it's in the correct order\n",
        "print(result)\n"
      ],
      "metadata": {
        "colab": {
          "base_uri": "https://localhost:8080/"
        },
        "id": "NBnyup1veppk",
        "outputId": "0e2374d7-c496-4d47-b697-077b90b68dbe"
      },
      "execution_count": 46,
      "outputs": [
        {
          "output_type": "stream",
          "name": "stderr",
          "text": [
            "<ipython-input-46-c9cf4c8503e9>:6: FutureWarning: The default of observed=False is deprecated and will be changed to True in a future version of pandas. Pass observed=False to retain current behavior or observed=True to adopt the future default and silence this warning.\n",
            "  result = full_year_cleaned.groupby(['member_casual', 'day_of_week'])['ride_length'].mean().reset_index()\n"
          ]
        },
        {
          "output_type": "stream",
          "name": "stdout",
          "text": [
            "   member_casual day_of_week  ride_length\n",
            "0         casual      Monday  1450.908723\n",
            "1         casual     Tuesday  1237.780140\n",
            "2         casual   Wednesday  1263.534162\n",
            "3         casual    Thursday  1164.577816\n",
            "4         casual      Friday  1362.576274\n",
            "5         casual    Saturday  1675.084583\n",
            "6         casual      Sunday  1713.725495\n",
            "7         member      Monday   708.816720\n",
            "8         member     Tuesday   716.972419\n",
            "9         member   Wednesday   717.521300\n",
            "10        member    Thursday   685.186144\n",
            "11        member      Friday   697.732829\n",
            "12        member    Saturday   840.439183\n",
            "13        member      Sunday   818.743879\n"
          ]
        }
      ]
    },
    {
      "cell_type": "markdown",
      "source": [
        "#Visualization baby!!"
      ],
      "metadata": {
        "id": "Bp35G4KSe-XZ"
      }
    },
    {
      "cell_type": "code",
      "source": [
        "import pandas as pd\n",
        "import matplotlib.pyplot as plt\n",
        "import seaborn as sns\n",
        "\n",
        "# Assuming 'full_year_cleaned_V04' is a DataFrame\n",
        "# Create a new column for the weekday (full name of the day)\n",
        "full_year_cleaned['weekday'] = pd.to_datetime(full_year_cleaned['started_at']).dt.day_name()\n",
        "\n",
        "# Grouping by member type and weekday, then calculating the number of rides and average duration\n",
        "rides_by_day = full_year_cleaned.groupby(['member_casual', 'weekday']).agg(\n",
        "    number_of_rides=('ride_length', 'size'),  # Number of rides\n",
        "    average_duration=('ride_length', lambda x: x.mean() / 60)  # Average ride duration in minutes\n",
        ").reset_index()\n",
        "\n",
        "# Sorting the data by member_casual and weekday for proper visualization\n",
        "weekday_order = [\"Monday\", \"Tuesday\", \"Wednesday\", \"Thursday\", \"Friday\", \"Saturday\", \"Sunday\"]\n",
        "rides_by_day['weekday'] = pd.Categorical(rides_by_day['weekday'], categories=weekday_order, ordered=True)\n",
        "\n",
        "# Plotting the data\n",
        "plt.figure(figsize=(10, 6))\n",
        "sns.barplot(x='weekday', y='number_of_rides', hue='member_casual', data=rides_by_day, dodge=True)\n",
        "\n",
        "# Adding titles and labels\n",
        "plt.title('Number of Rides by Rider Type and Weekday')\n",
        "plt.xlabel('Weekday')\n",
        "plt.ylabel('Number of Rides')\n",
        "plt.xticks(rotation=45)\n",
        "plt.legend(title='Rider Type')\n",
        "\n",
        "# Displaying the plot\n",
        "plt.tight_layout()\n",
        "plt.show()\n"
      ],
      "metadata": {
        "colab": {
          "base_uri": "https://localhost:8080/",
          "height": 607
        },
        "id": "aDQZ_0x3e9NL",
        "outputId": "2e48bc37-b60d-4c37-d786-4bd9d65845a0"
      },
      "execution_count": 48,
      "outputs": [
        {
          "output_type": "display_data",
          "data": {
            "text/plain": [
              "<Figure size 1000x600 with 1 Axes>"
            ],
            "image/png": "[encoded data removed]"
          },
          "metadata": {}
        }
      ]
    },
    {
      "cell_type": "code",
      "source": [
        "import pandas as pd\n",
        "import matplotlib.pyplot as plt\n",
        "import seaborn as sns\n",
        "\n",
        "# Assuming 'full_year_cleaned_V04' is a DataFrame\n",
        "# Create a new column for the weekday (full name of the day)\n",
        "full_year_cleaned['weekday'] = pd.to_datetime(full_year_cleaned['started_at']).dt.day_name()\n",
        "\n",
        "# Grouping by member type and weekday, then calculating the number of rides and average duration\n",
        "rides_by_day_duration = full_year_cleaned.groupby(['member_casual', 'weekday']).agg(\n",
        "    number_of_rides=('ride_length', 'size'),  # Number of rides\n",
        "    average_duration=('ride_length', lambda x: x.mean() / 60)  # Average ride duration in minutes\n",
        ").reset_index()\n",
        "\n",
        "# Sorting the data by member_casual and weekday for proper visualization\n",
        "weekday_order = [\"Monday\", \"Tuesday\", \"Wednesday\", \"Thursday\", \"Friday\", \"Saturday\", \"Sunday\"]\n",
        "rides_by_day_duration['weekday'] = pd.Categorical(rides_by_day_duration['weekday'], categories=weekday_order, ordered=True)\n",
        "\n",
        "# Plotting the data\n",
        "plt.figure(figsize=(10, 6))\n",
        "sns.barplot(x='weekday', y='average_duration', hue='member_casual', data=rides_by_day_duration, dodge=True)\n",
        "\n",
        "# Adding titles and labels\n",
        "plt.title('Average Ride Duration by Rider Type and Weekday')\n",
        "plt.xlabel('Weekday')\n",
        "plt.ylabel('Average Duration (minutes)')\n",
        "plt.xticks(rotation=45)\n",
        "plt.legend(title='Rider Type')\n",
        "\n",
        "# Displaying the plot\n",
        "plt.tight_layout()\n",
        "plt.show()\n"
      ],
      "metadata": {
        "colab": {
          "base_uri": "https://localhost:8080/",
          "height": 607
        },
        "id": "FeUjA58pggjT",
        "outputId": "b31562ea-fa98-4726-e1d7-8fd0a79c5b90"
      },
      "execution_count": 49,
      "outputs": [
        {
          "output_type": "display_data",
          "data": {
            "text/plain": [
              "<Figure size 1000x600 with 1 Axes>"
            ],
            "image/png": "[encoded data removed]"
          },
          "metadata": {}
        }
      ]
    },
    {
      "cell_type": "markdown",
      "source": [
        "# Key findings\n",
        "# Bike trips\n",
        "\n",
        "Casual riders make up 43% of the total amount of trips taken as opposed to 57% for members.\n",
        "\n",
        "Both casual and members show the same trend of bike trips throughout the year. Peaking between June and October.\n",
        "\n",
        "Member bike trips stay up a month longer to November before experiencing the same steep drop off.\n",
        "\n",
        "Casual riders primarily take trips on the weekends. Members take trips more evenly spread out over the week.\n",
        "\n",
        "Most bike trips for casual riders start between 12.00 and 18.00. The starting time for members shows a morning peak between 6.00 and 9.00.\n",
        "#Ride length\n",
        "Casual riders (37 minutes) use their bikes 2.4 times longer than members. (16 minutes)\n",
        "\n",
        "Casual rider ride length peaks between june and october. Members maintain a more steady ride length throughout the year.\n",
        "\n",
        "Ride length increases on Friday, Saturday and Sunday for casual riders. For members the average trip length does not vary much per week day.\n",
        "#Bike types\n",
        "Docked bikes are by far the most used bike type by both members and casual riders.\n",
        "\n",
        "The classical bike is used significantly less by casual riders than members.\n",
        "#Bussiness statement:\n",
        "#How do annual members and casual riders use rental bikes differently?\n",
        "\n",
        "The data shows that casual riders primarily take bike trips during the weekend as opposed to members who take bike trips more evenly spread throughout the week. Casual riders on average also take 2.4 times longer for a single trip, starting their trips later in the day. Both casuals and members take bike trips primarily during the warmer months with a steep decline during the colder months of the year.\n",
        "\n",
        "We can therefore conclude that casuals riders on average use the Cyclistic bike services primarily for leisure and not to commute from and to work. At the moment Cyclistic offers a single annual membership which does not benefit casual riders as they primarily take trips on the weekends and during the warmer months. My top 3 recommendations therefore are designed to better fit the needs of casual riders.\n",
        "\n",
        "#Top 3 recommendations\n",
        "1. Offer a weekend-only membership at a different price point than the full annual membership to entice casual users towards a full annual membership that is valid from Fridays to Sundays.\n",
        "\n",
        "2. Offer a half year only_membership from May to October instead of the full year annual membership.\n",
        "\n",
        "3. Combining the above described recommendations, a third option would be to create a half_year_only membership that is only valid on Friday to Sunday.\n",
        "#To the marketing department:\n",
        "Below I've included a list of the top 20 most used start and end stations, as well as a list with the most popular routes with the average trip length for each station."
      ],
      "metadata": {
        "id": "JdQpyDf7g-Yz"
      }
    },
    {
      "cell_type": "code",
      "source": [
        "import pandas as pd\n",
        "\n",
        "\n",
        "# Count the occurrences of each start station\n",
        "start_station_counts = full_year_cleaned['start_station_name'].value_counts().head(20)\n",
        "\n",
        "# Count the occurrences of each end station\n",
        "end_station_counts = full_year_cleaned['end_station_name'].value_counts().head(20)\n",
        "\n",
        "# Print the top 20 most used start stations\n",
        "print(\"Top 20 Most Used Start Stations:\")\n",
        "print(start_station_counts)\n",
        "\n",
        "# Print the top 20 most used end stations\n",
        "print(\"\\nTop 20 Most Used End Stations:\")\n",
        "print(end_station_counts)\n"
      ],
      "metadata": {
        "colab": {
          "base_uri": "https://localhost:8080/"
        },
        "id": "_tpqSwnTihLG",
        "outputId": "da7dd206-f0ba-491e-8ee2-e8df9f557eed"
      },
      "execution_count": 52,
      "outputs": [
        {
          "output_type": "stream",
          "name": "stdout",
          "text": [
            "Top 20 Most Used Start Stations:\n",
            "start_station_name\n",
            "Streeter Dr & Grand Ave               15683\n",
            "DuSable Lake Shore Dr & Monroe St     11207\n",
            "Clinton St & Washington Blvd          11144\n",
            "Kingsbury St & Kinzie St              10686\n",
            "University Ave & 57th St              10384\n",
            "Clark St & Elm St                      9581\n",
            "Clinton St & Madison St                9537\n",
            "Ellis Ave & 60th St                    8653\n",
            "Michigan Ave & Oak St                  8508\n",
            "Wells St & Elm St                      8243\n",
            "Wells St & Concord Ln                  7907\n",
            "DuSable Lake Shore Dr & North Blvd     7836\n",
            "Indiana Ave & Roosevelt Rd             7765\n",
            "Dearborn St & Erie St                  7570\n",
            "Millennium Park                        7547\n",
            "Clinton St & Jackson Blvd              7463\n",
            "Canal St & Adams St                    7084\n",
            "Wabash Ave & Grand Ave                 6822\n",
            "Theater on the Lake                    6741\n",
            "Wells St & Hubbard St                  6738\n",
            "Name: count, dtype: int64\n",
            "\n",
            "Top 20 Most Used End Stations:\n",
            "end_station_name\n",
            "Streeter Dr & Grand Ave               15808\n",
            "Clinton St & Washington Blvd          11398\n",
            "DuSable Lake Shore Dr & Monroe St     10874\n",
            "Kingsbury St & Kinzie St              10577\n",
            "University Ave & 57th St              10433\n",
            "Clinton St & Madison St                9698\n",
            "Clark St & Elm St                      9451\n",
            "Ellis Ave & 60th St                    8729\n",
            "Michigan Ave & Oak St                  8569\n",
            "Wells St & Elm St                      8332\n",
            "Wells St & Concord Ln                  8064\n",
            "DuSable Lake Shore Dr & North Blvd     7841\n",
            "Indiana Ave & Roosevelt Rd             7759\n",
            "Millennium Park                        7736\n",
            "Clinton St & Jackson Blvd              7601\n",
            "Dearborn St & Erie St                  7598\n",
            "Canal St & Adams St                    7278\n",
            "Wells St & Hubbard St                  6854\n",
            "Wabash Ave & Grand Ave                 6777\n",
            "Ellis Ave & 55th St                    6761\n",
            "Name: count, dtype: int64\n"
          ]
        }
      ]
    }
  ]
}